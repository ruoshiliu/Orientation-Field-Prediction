{
 "cells": [
  {
   "cell_type": "code",
   "execution_count": 1,
   "metadata": {},
   "outputs": [],
   "source": [
    "import torch\n",
    "import torch.nn as nn\n",
    "from torch.autograd import Variable\n",
    "from ConvLSTM import *\n",
    "import numpy as np"
   ]
  },
  {
   "cell_type": "code",
   "execution_count": 2,
   "metadata": {},
   "outputs": [
    {
     "name": "stdout",
     "output_type": "stream",
     "text": [
      "env: CUDA_VISIBLE_DEVICES=2,3\n"
     ]
    }
   ],
   "source": [
    "%env CUDA_VISIBLE_DEVICES=2,3"
   ]
  },
  {
   "cell_type": "code",
   "execution_count": 3,
   "metadata": {},
   "outputs": [
    {
     "name": "stdout",
     "output_type": "stream",
     "text": [
      "torch.Size([2, 64, 128, 128])\n",
      "torch.Size([2, 64, 128, 128])\n",
      "torch.Size([2, 128, 128, 128])\n",
      "3\n",
      "torch.Size([2, 64, 128, 128])\n",
      "torch.Size([2, 64, 128, 128])\n",
      "torch.Size([2, 128, 128, 128])\n",
      "3\n",
      "torch.Size([2, 64, 128, 128])\n",
      "torch.Size([2, 64, 128, 128])\n",
      "torch.Size([2, 128, 128, 128])\n",
      "3\n",
      "torch.Size([2, 64, 128, 128])\n",
      "torch.Size([2, 64, 128, 128])\n",
      "torch.Size([2, 128, 128, 128])\n",
      "3\n"
     ]
    }
   ],
   "source": [
    "model = ConvLSTM(input_size=(128,128),\n",
    "                 input_dim=1,\n",
    "                 hidden_dim=[64, 64, 128],\n",
    "                 kernel_size=(3, 3),\n",
    "                 num_layers=3,\n",
    "                 predict_steps=5,\n",
    "                 batch_first=True,\n",
    "                 bias=True,\n",
    "                 return_all_layers=True).cuda()\n",
    "#(b, t, c, h, w)\n",
    "input = Variable(torch.randn(2, 5, 1, 128, 128)).cuda()\n",
    "target = Variable(torch.randn(2, 5, 1, 128, 128)).double().cuda()\n",
    "\n",
    "layer_output_list, last_state_list, pred_list = model(input)"
   ]
  },
  {
   "cell_type": "code",
   "execution_count": 49,
   "metadata": {},
   "outputs": [
    {
     "data": {
      "text/plain": [
       "torch.Size([3, 1, 128, 128])"
      ]
     },
     "execution_count": 49,
     "metadata": {},
     "output_type": "execute_result"
    }
   ],
   "source": [
    "la"
   ]
  },
  {
   "cell_type": "code",
   "execution_count": 52,
   "metadata": {},
   "outputs": [
    {
     "data": {
      "text/plain": [
       "torch.Size([3, 5, 128, 128, 128])"
      ]
     },
     "execution_count": 52,
     "metadata": {},
     "output_type": "execute_result"
    }
   ],
   "source": [
    "layer_output_list[2].shape"
   ]
  },
  {
   "cell_type": "code",
   "execution_count": 57,
   "metadata": {},
   "outputs": [
    {
     "data": {
      "text/plain": [
       "torch.Size([3, 5, 128, 128, 128])"
      ]
     },
     "execution_count": 57,
     "metadata": {},
     "output_type": "execute_result"
    }
   ],
   "source": [
    "layer_output_list[2].shape"
   ]
  },
  {
   "cell_type": "markdown",
   "metadata": {},
   "source": [
    "torch.cat(layer_output_list,dim=2).shape"
   ]
  },
  {
   "cell_type": "code",
   "execution_count": 21,
   "metadata": {},
   "outputs": [],
   "source": [
    "last_hiddens = torch.cat(layer_output_list,dim=2)[:,4,:,:,:]\n",
    "net = nn.Conv2d(in_channels=256,\n",
    "                              out_channels=1,\n",
    "                              kernel_size=1,\n",
    "                               padding = 0).cuda()\n",
    "first_pred = net(last_hiddens)"
   ]
  },
  {
   "cell_type": "code",
   "execution_count": 22,
   "metadata": {},
   "outputs": [
    {
     "data": {
      "text/plain": [
       "torch.Size([3, 1, 128, 128])"
      ]
     },
     "execution_count": 22,
     "metadata": {},
     "output_type": "execute_result"
    }
   ],
   "source": [
    "first_pred.shape"
   ]
  },
  {
   "cell_type": "markdown",
   "metadata": {},
   "source": [
    "model = ConvLSTM(input_size=(128,128),\n",
    "                 input_dim=1,\n",
    "                 hidden_dim=[64, 64, 128, 1],\n",
    "                 kernel_size=(3, 3),\n",
    "                 num_layers=4,\n",
    "                 batch_first=True,\n",
    "                 bias=True,\n",
    "                 return_all_layers=True).cuda()\n",
    "(b, t, c, h, w)\n",
    "input = Variable(torch.randn(3, 1, 1, 128, 128)).cuda()\n",
    "target = Variable(torch.randn(3, 5, 1, 128, 128)).double().cuda()\n",
    "layer_output_list, last_state_list = model(input)"
   ]
  },
  {
   "cell_type": "code",
   "execution_count": 3,
   "metadata": {},
   "outputs": [
    {
     "data": {
      "text/plain": [
       "torch.Size([3, 1, 1, 128, 128])"
      ]
     },
     "execution_count": 3,
     "metadata": {},
     "output_type": "execute_result"
    }
   ],
   "source": [
    "layer_output_list[3].shape"
   ]
  },
  {
   "cell_type": "code",
   "execution_count": 4,
   "metadata": {},
   "outputs": [
    {
     "data": {
      "text/plain": [
       "torch.Size([3, 64, 128, 128])"
      ]
     },
     "execution_count": 4,
     "metadata": {},
     "output_type": "execute_result"
    }
   ],
   "source": [
    "last_state_list[1][0].shape"
   ]
  },
  {
   "cell_type": "code",
   "execution_count": 24,
   "metadata": {},
   "outputs": [
    {
     "data": {
      "text/plain": [
       "256"
      ]
     },
     "execution_count": 24,
     "metadata": {},
     "output_type": "execute_result"
    }
   ],
   "source": [
    "import numpy as np\n",
    "np.sum([64,64,128])"
   ]
  },
  {
   "cell_type": "code",
   "execution_count": null,
   "metadata": {},
   "outputs": [],
   "source": []
  }
 ],
 "metadata": {
  "kernelspec": {
   "display_name": "Python 3",
   "language": "python",
   "name": "python3"
  },
  "language_info": {
   "codemirror_mode": {
    "name": "ipython",
    "version": 3
   },
   "file_extension": ".py",
   "mimetype": "text/x-python",
   "name": "python",
   "nbconvert_exporter": "python",
   "pygments_lexer": "ipython3",
   "version": "3.6.6"
  }
 },
 "nbformat": 4,
 "nbformat_minor": 2
}
