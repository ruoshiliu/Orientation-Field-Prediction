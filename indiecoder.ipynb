{
 "cells": [
  {
   "cell_type": "code",
   "execution_count": 1,
   "metadata": {},
   "outputs": [],
   "source": [
    "import torch\n",
    "import torch.nn as nn\n",
    "from torch.autograd import Variable\n",
    "from convolution_lstm import *"
   ]
  },
  {
   "cell_type": "code",
   "execution_count": 23,
   "metadata": {},
   "outputs": [
    {
     "name": "stdout",
     "output_type": "stream",
     "text": [
      "True\n"
     ]
    }
   ],
   "source": [
    "convlstm = ConvLSTM(input_channels=512, hidden_channels=[128, 64, 64, 32, 32], kernel_size=3, step=5, effective_step=[4]).cuda()\n",
    "loss_fn = torch.nn.CrossEntropyLoss()\n",
    "\n",
    "input = Variable(torch.randn(1, 512, 64, 32)).cuda()\n",
    "target = Variable(torch.randn(1, 32, 64, 32)).double().cuda()\n",
    "\n",
    "output = convlstm(input)\n",
    "output = output[0][0].double()\n",
    "res = torch.autograd.gradcheck(loss_fn, (output, target), eps=1e-6, raise_exception=True)\n",
    "print(res)"
   ]
  },
  {
   "cell_type": "code",
   "execution_count": 2,
   "metadata": {},
   "outputs": [
    {
     "name": "stdout",
     "output_type": "stream",
     "text": [
      "torch.Size([1, 3, 128, 128])\n",
      "torch.Size([1, 3, 128, 128])\n",
      "torch.Size([1, 3, 128, 128])\n",
      "torch.Size([1, 3, 128, 128])\n",
      "torch.Size([1, 3, 128, 128])\n"
     ]
    }
   ],
   "source": [
    "convlstm = encoderConvLSTM(input_channels=3, hidden_channels=[128, 64, 64, 32, 32], kernel_size=3, step=5, effective_step=range(5)).cuda()\n",
    "loss_fn = torch.nn.MSELoss()\n",
    "\n",
    "input = Variable(torch.randn(5, 3, 128, 128)).cuda()\n",
    "target = Variable(torch.randn(5, 3, 128, 128)).double().cuda()\n",
    "output, h, c, states = convlstm(input)\n",
    "output_last = output[0][0].double()\n",
    "\n",
    "\n",
    "h1,h2,h3,h4,h5 = states[0][0],states[1][0],states[2][0],states[3][0],states[4][0]\n",
    "c1,c2,c3,c4,c5 = states[0][1],states[1][1],states[2][1],states[3][1],states[4][1]\n",
    "states_cat = torch.cat((h1,h2,h3,h4,h5,c1,c2,c3,c4,c5), dim=1, out=None)\n",
    "x = self.activateConv(states_cat)\n",
    "\n",
    "\n",
    "\n"
   ]
  },
  {
   "cell_type": "code",
   "execution_count": 27,
   "metadata": {},
   "outputs": [],
   "source": [
    "h1 = states[0][0]\n",
    "h2 = states[1][0]\n",
    "h3 = states[2][0]\n",
    "h4 = states[3][0]\n",
    "h5 = states[4][0]\n",
    "\n",
    "c1 = states[0][1]\n",
    "c2 = states[1][1]\n",
    "c3 = states[2][1]\n",
    "c4 = states[3][1]\n",
    "c5 = states[4][1]"
   ]
  },
  {
   "cell_type": "code",
   "execution_count": 30,
   "metadata": {},
   "outputs": [
    {
     "data": {
      "text/plain": [
       "torch.Size([1, 128, 128, 128])"
      ]
     },
     "execution_count": 30,
     "metadata": {},
     "output_type": "execute_result"
    }
   ],
   "source": [
    "c1.shape"
   ]
  },
  {
   "cell_type": "code",
   "execution_count": 38,
   "metadata": {},
   "outputs": [],
   "source": [
    "a = torch.cat((h1,h2,h3,h4,h5,c1,c2,c3,c4,c5), dim=1, out=None)"
   ]
  },
  {
   "cell_type": "code",
   "execution_count": 39,
   "metadata": {},
   "outputs": [
    {
     "data": {
      "text/plain": [
       "torch.Size([1, 640, 128, 128])"
      ]
     },
     "execution_count": 39,
     "metadata": {},
     "output_type": "execute_result"
    }
   ],
   "source": [
    "a.shape"
   ]
  },
  {
   "cell_type": "code",
   "execution_count": 26,
   "metadata": {},
   "outputs": [
    {
     "data": {
      "text/plain": [
       "tensor([[[[-0.0106, -0.0123, -0.0127,  ..., -0.0125, -0.0120, -0.0146],\n",
       "          [-0.0085, -0.0122, -0.0117,  ..., -0.0118, -0.0115, -0.0138],\n",
       "          [-0.0082, -0.0121, -0.0115,  ..., -0.0115, -0.0107, -0.0136],\n",
       "          ...,\n",
       "          [-0.0091, -0.0126, -0.0121,  ..., -0.0116, -0.0112, -0.0137],\n",
       "          [-0.0087, -0.0131, -0.0119,  ..., -0.0122, -0.0121, -0.0141],\n",
       "          [-0.0083, -0.0144, -0.0143,  ..., -0.0135, -0.0138, -0.0146]],\n",
       "\n",
       "         [[-0.0073, -0.0060, -0.0057,  ..., -0.0057, -0.0055, -0.0020],\n",
       "          [-0.0077, -0.0037, -0.0033,  ..., -0.0032, -0.0031, -0.0010],\n",
       "          [-0.0080, -0.0040, -0.0036,  ..., -0.0033, -0.0032, -0.0006],\n",
       "          ...,\n",
       "          [-0.0078, -0.0042, -0.0037,  ..., -0.0032, -0.0031, -0.0005],\n",
       "          [-0.0073, -0.0040, -0.0026,  ..., -0.0032, -0.0029, -0.0005],\n",
       "          [-0.0032,  0.0008,  0.0013,  ...,  0.0012,  0.0017,  0.0008]],\n",
       "\n",
       "         [[-0.0102, -0.0086, -0.0087,  ..., -0.0086, -0.0080, -0.0073],\n",
       "          [-0.0090, -0.0050, -0.0050,  ..., -0.0053, -0.0044, -0.0028],\n",
       "          [-0.0088, -0.0054, -0.0053,  ..., -0.0054, -0.0056, -0.0030],\n",
       "          ...,\n",
       "          [-0.0089, -0.0047, -0.0047,  ..., -0.0057, -0.0047, -0.0029],\n",
       "          [-0.0084, -0.0045, -0.0034,  ..., -0.0041, -0.0044, -0.0022],\n",
       "          [-0.0094, -0.0065, -0.0062,  ..., -0.0064, -0.0072, -0.0046]],\n",
       "\n",
       "         ...,\n",
       "\n",
       "         [[ 0.0210,  0.0230,  0.0231,  ...,  0.0228,  0.0229,  0.0254],\n",
       "          [ 0.0175,  0.0184,  0.0182,  ...,  0.0187,  0.0196,  0.0243],\n",
       "          [ 0.0176,  0.0179,  0.0188,  ...,  0.0183,  0.0195,  0.0242],\n",
       "          ...,\n",
       "          [ 0.0176,  0.0180,  0.0192,  ...,  0.0189,  0.0200,  0.0246],\n",
       "          [ 0.0169,  0.0181,  0.0196,  ...,  0.0190,  0.0202,  0.0250],\n",
       "          [ 0.0174,  0.0177,  0.0190,  ...,  0.0188,  0.0196,  0.0223]],\n",
       "\n",
       "         [[ 0.0114,  0.0124,  0.0126,  ...,  0.0123,  0.0125,  0.0110],\n",
       "          [ 0.0126,  0.0145,  0.0139,  ...,  0.0144,  0.0138,  0.0129],\n",
       "          [ 0.0127,  0.0151,  0.0141,  ...,  0.0150,  0.0146,  0.0132],\n",
       "          ...,\n",
       "          [ 0.0132,  0.0151,  0.0152,  ...,  0.0153,  0.0140,  0.0135],\n",
       "          [ 0.0137,  0.0155,  0.0159,  ...,  0.0159,  0.0154,  0.0142],\n",
       "          [ 0.0120,  0.0113,  0.0123,  ...,  0.0119,  0.0120,  0.0110]],\n",
       "\n",
       "         [[ 0.0263,  0.0291,  0.0296,  ...,  0.0293,  0.0293,  0.0291],\n",
       "          [ 0.0239,  0.0324,  0.0326,  ...,  0.0324,  0.0321,  0.0342],\n",
       "          [ 0.0253,  0.0327,  0.0326,  ...,  0.0325,  0.0322,  0.0341],\n",
       "          ...,\n",
       "          [ 0.0246,  0.0322,  0.0326,  ...,  0.0328,  0.0325,  0.0341],\n",
       "          [ 0.0247,  0.0321,  0.0321,  ...,  0.0323,  0.0323,  0.0342],\n",
       "          [ 0.0282,  0.0338,  0.0340,  ...,  0.0336,  0.0335,  0.0332]]]],\n",
       "       device='cuda:0', grad_fn=<MulBackward0>)"
      ]
     },
     "execution_count": 26,
     "metadata": {},
     "output_type": "execute_result"
    }
   ],
   "source": [
    "states[4][0]"
   ]
  },
  {
   "cell_type": "code",
   "execution_count": 3,
   "metadata": {},
   "outputs": [
    {
     "data": {
      "text/plain": [
       "torch.Size([1, 32, 128, 128])"
      ]
     },
     "execution_count": 3,
     "metadata": {},
     "output_type": "execute_result"
    }
   ],
   "source": [
    "output[0].shape"
   ]
  },
  {
   "cell_type": "code",
   "execution_count": 45,
   "metadata": {},
   "outputs": [],
   "source": []
  },
  {
   "cell_type": "code",
   "execution_count": 46,
   "metadata": {},
   "outputs": [],
   "source": [
    "fcconv = fcconv.cuda()"
   ]
  },
  {
   "cell_type": "code",
   "execution_count": 47,
   "metadata": {},
   "outputs": [],
   "source": [
    "b = fcconv(a)"
   ]
  },
  {
   "cell_type": "code",
   "execution_count": 49,
   "metadata": {},
   "outputs": [
    {
     "data": {
      "text/plain": [
       "torch.Size([1, 1, 128, 128])"
      ]
     },
     "execution_count": 49,
     "metadata": {},
     "output_type": "execute_result"
    }
   ],
   "source": [
    "b.shape"
   ]
  },
  {
   "cell_type": "code",
   "execution_count": null,
   "metadata": {},
   "outputs": [],
   "source": []
  }
 ],
 "metadata": {
  "kernelspec": {
   "display_name": "Python 3",
   "language": "python",
   "name": "python3"
  },
  "language_info": {
   "codemirror_mode": {
    "name": "ipython",
    "version": 3
   },
   "file_extension": ".py",
   "mimetype": "text/x-python",
   "name": "python",
   "nbconvert_exporter": "python",
   "pygments_lexer": "ipython3",
   "version": "3.6.6"
  }
 },
 "nbformat": 4,
 "nbformat_minor": 2
}
