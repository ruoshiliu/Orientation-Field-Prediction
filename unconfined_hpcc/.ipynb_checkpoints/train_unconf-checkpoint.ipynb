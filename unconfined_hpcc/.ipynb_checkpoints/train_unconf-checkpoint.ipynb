{
 "cells": [
  {
   "cell_type": "code",
   "execution_count": 1,
   "metadata": {},
   "outputs": [
    {
     "name": "stdout",
     "output_type": "stream",
     "text": [
      "env: CUDA_VISIBLE_DEVICES=2\n"
     ]
    }
   ],
   "source": [
    "%env CUDA_VISIBLE_DEVICES=2"
   ]
  },
  {
   "cell_type": "code",
   "execution_count": 1,
   "metadata": {},
   "outputs": [],
   "source": [
    "import pandas as pd\n",
    "import numpy as np\n",
    "from PIL import Image\n",
    "from PIL import ImageOps\n",
    "import PIL\n",
    "import torch, torchvision\n",
    "from torch.utils.data import Dataset, DataLoader\n",
    "import matplotlib.pyplot as plt\n",
    "from ansim_dataset_unconf import ansimDataset, create_circular_mask\n",
    "from ConvLSTM_unconf import MtConvLSTM\n",
    "import random\n",
    "import math\n",
    "import torch.nn as nn\n",
    "import torch.optim as optim\n",
    "from torch.optim import lr_scheduler\n",
    "from torch.autograd import Variable\n",
    "from torchvision import datasets, models, transforms\n",
    "import time\n",
    "import os"
   ]
  },
  {
   "cell_type": "code",
   "execution_count": 6,
   "metadata": {},
   "outputs": [],
   "source": [
    "img_path = '/home/rliu/ansim/data/unconfined_cropped/'\n",
    "img_list_csv = '/home/rliu/github/ansim/unconfined/img_list.csv'\n",
    "train_csv = '/home/rliu/github/ansim/unconfined/train_unconf.csv'\n",
    "test_csv = '/home/rliu/github/ansim/unconfined/test_unconf.csv'\n",
    "output_path = '/home/rliu/ansim/models/dataset3/very_first.pt'"
   ]
  },
  {
   "cell_type": "code",
   "execution_count": 3,
   "metadata": {},
   "outputs": [],
   "source": [
    "trainset = ansimDataset(img_list_csv = img_list_csv, seq_csv = train_csv, root_dir = img_path, step=10, random_rotate = True, transform=None, rand_range=10)\n",
    "trainloader = torch.utils.data.DataLoader(trainset,\n",
    "                                             batch_size=8, shuffle=True,\n",
    "                                             num_workers=4)\n",
    "\n",
    "testset = ansimDataset(img_list_csv = img_list_csv, seq_csv = test_csv, root_dir = img_path, step=10, random_rotate = False, transform=None)\n",
    "testloader = torch.utils.data.DataLoader(testset,\n",
    "                                             batch_size=8, shuffle=False,\n",
    "                                             num_workers=4)"
   ]
  },
  {
   "cell_type": "code",
   "execution_count": 7,
   "metadata": {},
   "outputs": [
    {
     "name": "stdout",
     "output_type": "stream",
     "text": [
      "GPU in use\n"
     ]
    }
   ],
   "source": [
    "use_gpu = torch.cuda.is_available()\n",
    "if use_gpu:\n",
    "    print(\"GPU in use\")\n",
    "\n",
    "device = torch.device(\"cuda:0\" if torch.cuda.is_available() else \"cpu\")"
   ]
  },
  {
   "cell_type": "code",
   "execution_count": 8,
   "metadata": {},
   "outputs": [],
   "source": [
    "img_list = pd.read_csv(img_list_csv,header=None)"
   ]
  },
  {
   "cell_type": "code",
   "execution_count": 43,
   "metadata": {},
   "outputs": [
    {
     "data": {
      "text/plain": [
       "'/home/rliu/ansim/data/data/JPEGImages/114571.jpg'"
      ]
     },
     "execution_count": 43,
     "metadata": {},
     "output_type": "execute_result"
    }
   ],
   "source": [
    "os.path.join(img_path, img_list.iloc[114570, 0])"
   ]
  },
  {
   "cell_type": "code",
   "execution_count": 53,
   "metadata": {},
   "outputs": [],
   "source": [
    "image = Image.open(\"/home/rliu/ansim/data/data/JPEGImages/112893.jpg\")\n",
    "image = image.convert('L')"
   ]
  },
  {
   "cell_type": "code",
   "execution_count": null,
   "metadata": {},
   "outputs": [],
   "source": []
  },
  {
   "cell_type": "code",
   "execution_count": 6,
   "metadata": {},
   "outputs": [],
   "source": [
    "# def train_model(encoder, decoder, criterion, optimizer, scheduler, num_epochs=25):\n",
    "#     since = time.time()\n",
    "\n",
    "#     best_encoder_wts = encoder.state_dict()\n",
    "#     best_decoder_wts = decoder.state_dict()\n",
    "#     best_acc = 0.0\n",
    "\n",
    "#     for epoch in range(num_epochs):\n",
    "#         print('Epoch {}/{}'.format(epoch, num_epochs - 1))\n",
    "#         print('-' * 10)\n",
    "\n",
    "#         # Each epoch has a training phase\n",
    "#         scheduler.step()\n",
    "#         encoder.train(True)  # Set model to training mode\n",
    "#         decoder.train(True)  # Set model to training mode\n",
    "#         running_loss = 0.0\n",
    "#         running_corrects = 0\n",
    "\n",
    "#         # Iterate over data.\n",
    "#         trainset = ansimDataset(img_list_csv = img_list_csv, seq_csv = train_csv, root_dir = img_path, step=20, random_rotate = True, mask = mask, transform=None)\n",
    "#         trainloader = torch.utils.data.DataLoader(trainset,\n",
    "#                                                      batch_size=1, shuffle=True,\n",
    "#                                                      num_workers=4)\n",
    "\n",
    "#         print(\"trainloader ready!\")\n",
    "#         testset = ansimDataset(img_list_csv = img_list_csv, seq_csv = test_csv, root_dir = img_path, step=20, random_rotate = True, mask = mask, transform=None)\n",
    "#         testloader = torch.utils.data.DataLoader(testset,\n",
    "#                                                      batch_size=1, shuffle=True,\n",
    "#                                                      num_workers=4)\n",
    "#         print(\"testloader ready!\")\n",
    "        \n",
    "#         for data in trainloader:\n",
    "#             # get the inputs\n",
    "#             data_split = torch.split(data, 10, dim=1)\n",
    "#             inputs = data_split[0]\n",
    "#             target = data_split[1]\n",
    "# #            print(inputs)\n",
    "#             # wrap them in Variable\n",
    "#             if use_gpu:\n",
    "# #                inputs = Variable(inputs.cuda())\n",
    "# #                labels = Variable(labels.cuda())\n",
    "# #                inputs = torch.nn.DataParallel(inputs, device_ids=[0, 1]).cuda()\n",
    "# #                labels = torch.nn.DataParallel(labels, device_ids=[0, 1]).cuda()\n",
    "#                 inputs, target = inputs.to(device), target.to(device)\n",
    "# #                print(inputs)\n",
    "#             else:\n",
    "#                 inputs, target = Variable(inputs), Variable(target)\n",
    "\n",
    "#             # zero the parameter gradients\n",
    "#             optimizer.zero_grad()\n",
    "            \n",
    "#             output, h, c, states = encoder(inputs)\n",
    "#             output_last = output[0][0].double()\n",
    "#             h1,h2,h3,h4,h5 = states[0][0],states[1][0],states[2][0],states[3][0],states[4][0]\n",
    "#             c1,c2,c3,c4,c5 = states[0][1],states[1][1],states[2][1],states[3][1],states[4][1]\n",
    "#             states_cat = torch.cat((h1,h2,h3,h4,h5,c1,c2,c3,c4,c5), dim=1, out=None)\n",
    "#             x = decoder.activateConv(states_cat)\n",
    "#             input_d = [x, states]\n",
    "#             output_d, h_d, c_d, states_d = decoder(input_d)\n",
    "#             predicted = torch.cat(output_d, dim=0, out=None).double()\n",
    "            \n",
    "            \n",
    "#             loss = criterion(predicted, target)\n",
    "#             # forward\n",
    "# #            outputs = model(inputs)\n",
    "# #            _, preds = torch.max(outputs.data, 1)\n",
    "# #            loss = criterion(outputs, labels)\n",
    "\n",
    "#             loss.backward()\n",
    "#             optimizer.step()\n",
    "\n",
    "#             # statistics\n",
    "#             iter_loss = loss.item()\n",
    "#             running_loss += loss.item()    \n",
    "#             epoch_loss = running_loss / len(trainset)\n",
    "            \n",
    "#             print('{} Loss: {:.4f} batch_loss: {:d}'.format(\n",
    "#                 \"train\", epoch_loss, iter_loss))\n",
    "        \n",
    "#         with torch.no_grad():\n",
    "#             for data in testloader:\n",
    "#                 data_split = torch.split(data, 10, dim=1)\n",
    "#                 inputs = data_split[0]\n",
    "#                 target = data_split[1]\n",
    "                \n",
    "#                 if use_gpu:\n",
    "#                     inputs, target = inputs.to(device), target.to(device)\n",
    "#                 else:\n",
    "#                     inputs, target = Variable(inputs), Variable(target)\n",
    "\n",
    "                    \n",
    "#                 output, h, c, states = encoder(inputs)\n",
    "#                 output_last = output[0][0].double()\n",
    "#                 h1,h2,h3,h4,h5 = states[0][0],states[1][0],states[2][0],states[3][0],states[4][0]\n",
    "#                 c1,c2,c3,c4,c5 = states[0][1],states[1][1],states[2][1],states[3][1],states[4][1]\n",
    "#                 states_cat = torch.cat((h1,h2,h3,h4,h5,c1,c2,c3,c4,c5), dim=1, out=None)\n",
    "#                 x = decoder.activateConv(states_cat)\n",
    "#                 input_d = [x, states]\n",
    "#                 output_d, h_d, c_d, states_d = decoder(input_d)\n",
    "#                 predicted = torch.cat(output_d, dim=0, out=None).double()\n",
    "            \n",
    "#                 loss_test = criterion(predicted, target)\n",
    "#                 iter_loss_test = loss_test.item()\n",
    "#                 running_loss_test += loss_test.item()    \n",
    "#                 epoch_loss_test = running_loss_test / len(testset)\n",
    "\n",
    "#         print('Loss on the test images: %.5f %%' % (\n",
    "#             epoch_loss_test))\n",
    "        \n",
    "\n",
    "#     time_elapsed = time.time() - since\n",
    "#     print('Training complete in {:.0f}m {:.0f}s'.format(\n",
    "#         time_elapsed // 60, time_elapsed % 60))\n",
    "#     print('Best val Acc: {:4f}'.format(best_acc))\n",
    "\n",
    "#     # load best model weights\n",
    "#     encoder.load_state_dict(best_encoder_wts)\n",
    "#     decoder.load_state_dict(best_decoder_wts)\n",
    "#     return encoder, decoder"
   ]
  },
  {
   "cell_type": "code",
   "execution_count": 14,
   "metadata": {},
   "outputs": [],
   "source": [
    "def train_model(model, criterion, optimizer, scheduler, num_epochs=25, batch_size = 4, step_size = 10):\n",
    "    since = time.time()\n",
    "\n",
    "    best_model_wts = model.state_dict()\n",
    "    best_acc = 0.0\n",
    "\n",
    "    for epoch in range(num_epochs):\n",
    "        print('Epoch {}/{}'.format(epoch, num_epochs - 1))\n",
    "        print('-' * 10)\n",
    "\n",
    "        # Each epoch has a training phase\n",
    "        scheduler.step()\n",
    "        model.train(True)  # Set model to training mode\n",
    "        running_loss = 0.0\n",
    "        running_corrects = 0\n",
    "        \n",
    "\n",
    "        # Iterate over data.\n",
    "        trainset = ansimDataset(img_list_csv = img_list_csv, seq_csv = test_csv, root_dir = img_path, step=10, random_rotate = False, transform=None, image_size = 128, rand_range=10)\n",
    "        trainloader = torch.utils.data.DataLoader(trainset, batch_size=batch_size, shuffle=False,\n",
    "                                                     num_workers=1)\n",
    "\n",
    "        print(\"trainloader ready!\")\n",
    "        testset = ansimDataset(img_list_csv = img_list_csv, seq_csv = test_csv, root_dir = img_path, step=10, random_rotate = False, transform=None, image_size = 128, rand_range=0)\n",
    "        testloader = torch.utils.data.DataLoader(testset, batch_size=batch_size, shuffle=False,\n",
    "                                                     num_workers=1)\n",
    "        print(\"testloader ready!\")\n",
    "        \n",
    "        for data in trainloader:\n",
    "            # get the inputs\n",
    "            data_split = torch.split(data, int(data.shape[1]/2), dim=1)\n",
    "            inputs = data_split[0]\n",
    "            target = data_split[1]\n",
    "#            print(inputs)\n",
    "            # wrap them in Variable\n",
    "            if use_gpu:\n",
    "                inputs, target = inputs.to(device), target.to(device)\n",
    "            else:\n",
    "                inputs, target = Variable(inputs), Variable(target)\n",
    "\n",
    "            # zero the parameter gradients\n",
    "            optimizer.zero_grad()\n",
    "            \n",
    "#             output, h, c, states = encoder(inputs)\n",
    "#             output_last = output[0][0].double()\n",
    "#             h1,h2,h3,h4,h5 = states[0][0],states[1][0],states[2][0],states[3][0],states[4][0]\n",
    "#             c1,c2,c3,c4,c5 = states[0][1],states[1][1],states[2][1],states[3][1],states[4][1]\n",
    "#             states_cat = torch.cat((h1,h2,h3,h4,h5,c1,c2,c3,c4,c5), dim=1, out=None)\n",
    "#             x = decoder.activateConv(states_cat)\n",
    "#             input_d = [x, states]\n",
    "#             output_d, h_d, c_d, states_d = decoder(input_d)\n",
    "#             predicted = torch.cat(output_d, dim=0, out=None).double()\n",
    "            \n",
    "            _, _, _, predicted = model(inputs)\n",
    "            \n",
    "            m = nn.Sigmoid()\n",
    "            loss = criterion(m(predicted), m(target))\n",
    "            # forward\n",
    "#            outputs = model(inputs)\n",
    "#            _, preds = torch.max(outputs.data, 1)\n",
    "#            loss = criterion(outputs, labels)\n",
    "\n",
    "            loss.backward()\n",
    "            optimizer.step()\n",
    "\n",
    "            # statistics\n",
    "            iter_loss = loss.item()\n",
    "            running_loss += loss.item()    \n",
    "            epoch_loss = running_loss / len(trainset)\n",
    "            \n",
    "            print('{} Loss: {:.4f} batch_loss: {:f}'.format(\n",
    "                \"train\", epoch_loss, iter_loss))\n",
    "        \n",
    "        with torch.no_grad():\n",
    "            running_loss_test = 0.0\n",
    "            for data in testloader:\n",
    "                data_split = torch.split(data, int(data.shape[1]/2), dim=1)\n",
    "                inputs = data_split[0]\n",
    "                target = data_split[1]\n",
    "                \n",
    "                \n",
    "                if use_gpu:\n",
    "                    inputs, target = inputs.to(device), target.to(device)\n",
    "                else:\n",
    "                    inputs, target = Variable(inputs), Variable(target)\n",
    "\n",
    "                    \n",
    "#                 output, h, c, states = encoder(inputs)\n",
    "#                 output_last = output[0][0].double()\n",
    "#                 h1,h2,h3,h4,h5 = states[0][0],states[1][0],states[2][0],states[3][0],states[4][0]\n",
    "#                 c1,c2,c3,c4,c5 = states[0][1],states[1][1],states[2][1],states[3][1],states[4][1]\n",
    "#                 states_cat = torch.cat((h1,h2,h3,h4,h5,c1,c2,c3,c4,c5), dim=1, out=None)\n",
    "#                 x = decoder.activateConv(states_cat)\n",
    "#                 input_d = [x, states]\n",
    "#                 output_d, h_d, c_d, states_d = decoder(input_d)\n",
    "#                 predicted = torch.cat(output_d, dim=0, out=None).double()\n",
    "\n",
    "                _, _, _, predicted = model(inputs)\n",
    "                \n",
    "                m = nn.Sigmoid()\n",
    "                loss_test = criterion(m(predicted), m(target))\n",
    "                \n",
    "                iter_loss_test = loss_test.item()\n",
    "                running_loss_test += loss_test.item()    \n",
    "                epoch_loss_test = running_loss_test / len(testset)\n",
    "\n",
    "        print('Loss on the test images: %.5f ' % (\n",
    "            epoch_loss_test))\n",
    "        \n",
    "\n",
    "    time_elapsed = time.time() - since\n",
    "    print('Training complete in {:.0f}m {:.0f}s'.format(\n",
    "        time_elapsed // 60, time_elapsed % 60))\n",
    "    print('Best val Acc: {:4f}'.format(best_acc))\n",
    "\n",
    "    # load best model weights\n",
    "    model.load_state_dict(best_model_wts)\n",
    "    return encoder, decoder"
   ]
  },
  {
   "cell_type": "code",
   "execution_count": 15,
   "metadata": {},
   "outputs": [
    {
     "name": "stdout",
     "output_type": "stream",
     "text": [
      "Epoch 0/9\n",
      "----------\n",
      "trainloader ready!\n",
      "testloader ready!\n"
     ]
    },
    {
     "name": "stderr",
     "output_type": "stream",
     "text": [
      "/home/rliu/.local/lib/python3.6/site-packages/torch/nn/functional.py:2423: UserWarning: Default upsampling behavior when mode=bilinear is changed to align_corners=False since 0.4.0. Please specify align_corners=True if the old behavior is desired. See the documentation of nn.Upsample for details.\n",
      "  \"See the documentation of nn.Upsample for details.\".format(mode))\n"
     ]
    },
    {
     "ename": "ValueError",
     "evalue": "too many values to unpack (expected 3)",
     "output_type": "error",
     "traceback": [
      "\u001b[0;31m---------------------------------------------------------------------------\u001b[0m",
      "\u001b[0;31mValueError\u001b[0m                                Traceback (most recent call last)",
      "\u001b[0;32m<ipython-input-15-d11daf80a6ae>\u001b[0m in \u001b[0;36m<module>\u001b[0;34m\u001b[0m\n\u001b[1;32m     29\u001b[0m \u001b[0;34m\u001b[0m\u001b[0m\n\u001b[1;32m     30\u001b[0m \u001b[0;31m# train model\u001b[0m\u001b[0;34m\u001b[0m\u001b[0;34m\u001b[0m\u001b[0;34m\u001b[0m\u001b[0m\n\u001b[0;32m---> 31\u001b[0;31m \u001b[0mmodel\u001b[0m \u001b[0;34m=\u001b[0m \u001b[0mtrain_model\u001b[0m\u001b[0;34m(\u001b[0m\u001b[0mmodel\u001b[0m\u001b[0;34m,\u001b[0m \u001b[0mcriterion\u001b[0m\u001b[0;34m,\u001b[0m \u001b[0moptimizer_ft\u001b[0m\u001b[0;34m,\u001b[0m \u001b[0mexp_lr_scheduler\u001b[0m\u001b[0;34m,\u001b[0m \u001b[0mbatch_size\u001b[0m \u001b[0;34m=\u001b[0m \u001b[0;36m1\u001b[0m\u001b[0;34m,\u001b[0m \u001b[0mstep_size\u001b[0m \u001b[0;34m=\u001b[0m \u001b[0;36m10\u001b[0m\u001b[0;34m,\u001b[0m \u001b[0mnum_epochs\u001b[0m\u001b[0;34m=\u001b[0m\u001b[0;36m10\u001b[0m\u001b[0;34m)\u001b[0m\u001b[0;34m\u001b[0m\u001b[0;34m\u001b[0m\u001b[0m\n\u001b[0m\u001b[1;32m     32\u001b[0m \u001b[0mtorch\u001b[0m\u001b[0;34m.\u001b[0m\u001b[0msave\u001b[0m\u001b[0;34m(\u001b[0m\u001b[0mmodel\u001b[0m\u001b[0;34m,\u001b[0m \u001b[0moutput_path\u001b[0m\u001b[0;34m)\u001b[0m\u001b[0;34m\u001b[0m\u001b[0;34m\u001b[0m\u001b[0m\n",
      "\u001b[0;32m<ipython-input-14-56ce25581d4d>\u001b[0m in \u001b[0;36mtrain_model\u001b[0;34m(model, criterion, optimizer, scheduler, num_epochs, batch_size, step_size)\u001b[0m\n\u001b[1;32m     52\u001b[0m \u001b[0;31m#             predicted = torch.cat(output_d, dim=0, out=None).double()\u001b[0m\u001b[0;34m\u001b[0m\u001b[0;34m\u001b[0m\u001b[0;34m\u001b[0m\u001b[0m\n\u001b[1;32m     53\u001b[0m \u001b[0;34m\u001b[0m\u001b[0m\n\u001b[0;32m---> 54\u001b[0;31m             \u001b[0m_\u001b[0m\u001b[0;34m,\u001b[0m \u001b[0m_\u001b[0m\u001b[0;34m,\u001b[0m \u001b[0mpredicted\u001b[0m \u001b[0;34m=\u001b[0m \u001b[0mmodel\u001b[0m\u001b[0;34m(\u001b[0m\u001b[0minputs\u001b[0m\u001b[0;34m)\u001b[0m\u001b[0;34m\u001b[0m\u001b[0;34m\u001b[0m\u001b[0m\n\u001b[0m\u001b[1;32m     55\u001b[0m \u001b[0;34m\u001b[0m\u001b[0m\n\u001b[1;32m     56\u001b[0m             \u001b[0mm\u001b[0m \u001b[0;34m=\u001b[0m \u001b[0mnn\u001b[0m\u001b[0;34m.\u001b[0m\u001b[0mSigmoid\u001b[0m\u001b[0;34m(\u001b[0m\u001b[0;34m)\u001b[0m\u001b[0;34m\u001b[0m\u001b[0;34m\u001b[0m\u001b[0m\n",
      "\u001b[0;31mValueError\u001b[0m: too many values to unpack (expected 3)"
     ]
    }
   ],
   "source": [
    "# transfer learning resnet18\n",
    "step_size = 10\n",
    "model = MtConvLSTM(input_size=(128,128),\n",
    "                 input_dim=1,\n",
    "                 hidden_dim=[[16,32,64],[16,32,64],[32,64,128],[32,64,128,128]],\n",
    "                 kernel_size=[[3,3,3],[5,3,3],[5,5,5],[7,5,5,5]],\n",
    "                 num_layers=[3,3,3,4],\n",
    "                 predict_steps=10,\n",
    "                 batch_first=True,\n",
    "                 num_scale=4,\n",
    "                 bias=True,\n",
    "                 return_all_layers=True)\n",
    "\n",
    "\n",
    "if use_gpu:\n",
    "#     encoder = torch.nn.DataParallel(encoder)\n",
    "#     decoder = torch.nn.DataParallel(decoder)\n",
    "    model = torch.nn.DataParallel(model)\n",
    "    model.to(device)\n",
    "\n",
    "#criterion = nn.MSELoss()\n",
    "criterion = nn.BCELoss()\n",
    "\n",
    "# Observe that all parameters are being optimized\n",
    "optimizer_ft = optim.Adam(model.parameters(), lr=0.001, betas=(0.9, 0.999), eps=1e-08, weight_decay=0, amsgrad=False)\n",
    "\n",
    "# Decay LR by a factor of 0.1 every 7 epochs\n",
    "exp_lr_scheduler = lr_scheduler.StepLR(optimizer_ft, step_size=1, gamma=0.1)\n",
    "\n",
    "# train model\n",
    "model = train_model(model, criterion, optimizer_ft, exp_lr_scheduler, batch_size = 1, step_size = 10, num_epochs=10)\n",
    "torch.save(model, output_path)"
   ]
  },
  {
   "cell_type": "code",
   "execution_count": null,
   "metadata": {},
   "outputs": [],
   "source": [
    "# testset = ansimDataset(img_list_csv = img_list_csv, seq_csv = test_csv, root_dir = img_path, step=step_size, random_rotate = True, mask = mask, transform=None)\n",
    "# testloader = torch.utils.data.DataLoader(testset,\n",
    "#                                              batch_size=1, shuffle=True,\n",
    "#                                              num_workers=1)\n",
    "# dataiter = iter(testloader)\n",
    "# data = dataiter.next()\n",
    "# data_split = torch.split(data, int(data.shape[1]/2), dim=1)\n",
    "# inputs = data_split[0]\n",
    "# target = data_split[1]\n",
    "# outputs = model(inputs)\n"
   ]
  },
  {
   "cell_type": "code",
   "execution_count": null,
   "metadata": {},
   "outputs": [],
   "source": [
    "count_parameters(model)"
   ]
  },
  {
   "cell_type": "code",
   "execution_count": 10,
   "metadata": {},
   "outputs": [],
   "source": [
    "m = nn.Sigmoid()\n",
    "input = Variable(torch.randn(3, 1, 512, 64, 32)).cuda()\n",
    "a = m(input)"
   ]
  },
  {
   "cell_type": "code",
   "execution_count": 11,
   "metadata": {},
   "outputs": [
    {
     "data": {
      "text/plain": [
       "torch.Size([3, 1, 512, 64, 32])"
      ]
     },
     "execution_count": 11,
     "metadata": {},
     "output_type": "execute_result"
    }
   ],
   "source": [
    "a.shape"
   ]
  },
  {
   "cell_type": "code",
   "execution_count": null,
   "metadata": {},
   "outputs": [],
   "source": []
  }
 ],
 "metadata": {
  "kernelspec": {
   "display_name": "Python 3",
   "language": "python",
   "name": "python3"
  },
  "language_info": {
   "codemirror_mode": {
    "name": "ipython",
    "version": 3
   },
   "file_extension": ".py",
   "mimetype": "text/x-python",
   "name": "python",
   "nbconvert_exporter": "python",
   "pygments_lexer": "ipython3",
   "version": "3.6.7"
  }
 },
 "nbformat": 4,
 "nbformat_minor": 2
}
