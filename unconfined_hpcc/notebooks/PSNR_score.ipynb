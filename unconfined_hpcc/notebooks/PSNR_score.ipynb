{
 "cells": [
  {
   "cell_type": "code",
   "execution_count": 3,
   "metadata": {},
   "outputs": [],
   "source": [
    "import pandas as pd\n",
    "import numpy as np\n",
    "from PIL import Image\n",
    "from PIL import ImageOps\n",
    "import PIL\n",
    "import torch, torchvision\n",
    "from torch.utils.data import Dataset, DataLoader\n",
    "import matplotlib.pyplot as plt\n",
    "from ansim_dataset200 import ansimDataset, create_circular_mask\n",
    "# from convolution_lstm import encoderConvLSTM, decoderConvLSTM\n",
    "from ConvLSTM200 import MtConvLSTM\n",
    "import random\n",
    "import math\n",
    "import torch.nn as nn\n",
    "import torch.optim as optim\n",
    "from torch.optim import lr_scheduler\n",
    "from torch.autograd import Variable\n",
    "from torchvision import datasets, models, transforms\n",
    "import time\n",
    "import os\n",
    "import cv2"
   ]
  },
  {
   "cell_type": "code",
   "execution_count": 19,
   "metadata": {},
   "outputs": [],
   "source": [
    "dir1 = '/home/rliu/ansim/results/test_4-25_mt-6-8-10-12_predict40/'\n",
    "dir2 = '/home/rliu/ansim/results/test_4-28_mt-paper_predict40/'\n",
    "predict_steps = 30"
   ]
  },
  {
   "cell_type": "code",
   "execution_count": 45,
   "metadata": {},
   "outputs": [],
   "source": [
    "def psnr(img1, img2):\n",
    "    mse = np.mean( (img1 - img2) ** 2 )\n",
    "    if mse == 0:\n",
    "        return 100\n",
    "    PIXEL_MAX = 255.0\n",
    "    return 20 * math.log10(PIXEL_MAX / math.sqrt(mse))"
   ]
  },
  {
   "cell_type": "code",
   "execution_count": 73,
   "metadata": {},
   "outputs": [
    {
     "name": "stdout",
     "output_type": "stream",
     "text": [
      "0\n",
      "1\n",
      "2\n",
      "3\n",
      "4\n",
      "5\n",
      "6\n",
      "7\n",
      "8\n",
      "9\n",
      "10\n",
      "11\n",
      "12\n",
      "13\n",
      "14\n",
      "15\n",
      "16\n",
      "17\n",
      "18\n",
      "19\n",
      "20\n",
      "21\n",
      "22\n",
      "23\n",
      "24\n",
      "25\n",
      "26\n",
      "27\n",
      "28\n",
      "29\n",
      "0\n",
      "1\n",
      "2\n",
      "3\n",
      "4\n",
      "5\n",
      "6\n",
      "7\n",
      "8\n",
      "9\n",
      "10\n",
      "11\n",
      "12\n",
      "13\n",
      "14\n",
      "15\n",
      "16\n",
      "17\n",
      "18\n",
      "19\n",
      "20\n",
      "21\n",
      "22\n",
      "23\n",
      "24\n",
      "25\n",
      "26\n",
      "27\n",
      "28\n",
      "29\n"
     ]
    }
   ],
   "source": [
    "folder_num1 = len(next(os.walk(dir1))[1])\n",
    "psnr_sum_1 = []\n",
    "for i in range(predict_steps):\n",
    "    psnr_step = 0\n",
    "    for j in range(1,folder_num1+1):\n",
    "        original = cv2.imread(dir1 + '%0.4d/target/target%0.4d.png'% (j,i))\n",
    "        contrast = cv2.imread(dir1 + '%0.4d/predicted/predicted%0.4d.png'% (j,i),1)\n",
    "        d=psnr(original,contrast)\n",
    "        psnr_step += d\n",
    "    psnr_step = psnr_step / folder_num1\n",
    "    psnr_sum_1.append(psnr_step)\n",
    "    \n",
    "folder_num2 = len(next(os.walk(dir2))[1])\n",
    "psnr_sum_2 = []\n",
    "for i in range(predict_steps):\n",
    "    psnr_step = 0\n",
    "    for j in range(1,folder_num2+1):\n",
    "        original = cv2.imread(dir2 + '%0.4d/target/target%0.4d.png'% (j,i))\n",
    "        contrast = cv2.imread(dir2 + '%0.4d/predicted/predicted%0.4d.png'% (j,i),1)\n",
    "        d=psnr(original,contrast)\n",
    "        psnr_step += d\n",
    "    psnr_step = psnr_step / folder_num2\n",
    "    psnr_sum_2.append(psnr_step)"
   ]
  },
  {
   "cell_type": "code",
   "execution_count": 81,
   "metadata": {},
   "outputs": [
    {
     "data": {
      "text/plain": [
       "<matplotlib.legend.Legend at 0x7fc3e7f4a240>"
      ]
     },
     "execution_count": 81,
     "metadata": {},
     "output_type": "execute_result"
    },
    {
     "data": {
      "image/png": "[encoded data removed]",
      "text/plain": [
       "<Figure size 432x288 with 1 Axes>"
      ]
     },
     "metadata": {
      "needs_background": "light"
     },
     "output_type": "display_data"
    }
   ],
   "source": [
    "plt.plot(np.arange(1, predict_steps+1), psnr_sum_1, label='dir1')\n",
    "plt.plot(np.arange(1, predict_steps+1), psnr_sum_2, label='dir2')\n",
    "plt.legend()"
   ]
  },
  {
   "cell_type": "code",
   "execution_count": null,
   "metadata": {},
   "outputs": [],
   "source": []
  }
 ],
 "metadata": {
  "kernelspec": {
   "display_name": "Python 3",
   "language": "python",
   "name": "python3"
  },
  "language_info": {
   "codemirror_mode": {
    "name": "ipython",
    "version": 3
   },
   "file_extension": ".py",
   "mimetype": "text/x-python",
   "name": "python",
   "nbconvert_exporter": "python",
   "pygments_lexer": "ipython3",
   "version": "3.6.7"
  }
 },
 "nbformat": 4,
 "nbformat_minor": 2
}
